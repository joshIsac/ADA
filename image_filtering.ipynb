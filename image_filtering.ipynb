{
  "nbformat": 4,
  "nbformat_minor": 0,
  "metadata": {
    "colab": {
      "provenance": [],
      "gpuType": "T4",
      "authorship_tag": "ABX9TyMvTjop0UQ310V82udTn+uF",
      "include_colab_link": true
    },
    "kernelspec": {
      "name": "python3",
      "display_name": "Python 3"
    },
    "language_info": {
      "name": "python"
    },
    "accelerator": "GPU"
  },
  "cells": [
    {
      "cell_type": "markdown",
      "metadata": {
        "id": "view-in-github",
        "colab_type": "text"
      },
      "source": [
        "<a href=\"https://colab.research.google.com/github/joshIsac/ADA/blob/main/image_filtering.ipynb\" target=\"_parent\"><img src=\"https://colab.research.google.com/assets/colab-badge.svg\" alt=\"Open In Colab\"/></a>"
      ]
    },
    {
      "cell_type": "code",
      "source": [
        "import cv2\n",
        "import matplotlib.pyplot as plt\n",
        "import numpy as np\n",
        "from sklearn.svm import SVC\n",
        "from sklearn.metrics import accuracy_score\n",
        "from google.colab.patches import cv2_imshow\n",
        "from sklearn.datasets import fetch_openml\n",
        "from sklearn.preprocessing import StandardScaler\n",
        "from sklearn.decomposition import PCA\n",
        "from sklearn.cluster import KMeans\n",
        "from sklearn.metrics import accuracy_score\n"
      ],
      "metadata": {
        "id": "Am3dMXXosewO"
      },
      "execution_count": null,
      "outputs": []
    },
    {
      "cell_type": "code",
      "execution_count": null,
      "metadata": {
        "id": "ADKdU3BhrmQY",
        "colab": {
          "base_uri": "https://localhost:8080/"
        },
        "outputId": "55a2b4cf-9a67-4b0d-b8ec-b4ab0b95eba9"
      },
      "outputs": [
        {
          "output_type": "stream",
          "name": "stdout",
          "text": [
            "Downloading data from https://storage.googleapis.com/tensorflow/tf-keras-datasets/mnist.npz\n",
            "11490434/11490434 [==============================] - 2s 0us/step\n"
          ]
        }
      ],
      "source": [
        "#loading the mnist datasets from tensorflow.\n",
        "\n",
        "from tensorflow.keras.datasets import mnist\n",
        "(x_train,y_train),(x_test,y_test)=mnist.load_data()\n"
      ]
    },
    {
      "cell_type": "code",
      "source": [
        "import numpy as np\n"
      ],
      "metadata": {
        "id": "VQVtAn0ir-XQ"
      },
      "execution_count": null,
      "outputs": []
    },
    {
      "cell_type": "code",
      "source": [
        "#extracting a sample of 2000 images\n",
        "sample_size = 2000\n",
        "random_indices = np.random.choice(x_train.shape[0], sample_size, replace=False)\n",
        "x_train_sample = x_train[random_indices]\n",
        "y_train_sample = y_train[random_indices]\n",
        "\n",
        "print(\"Shape of the sample data:\", x_train_sample.shape)\n"
      ],
      "metadata": {
        "colab": {
          "base_uri": "https://localhost:8080/"
        },
        "id": "ML7MKy5dr2bj",
        "outputId": "485d9fd2-f70a-4f36-c0c8-20ebc09ecedc"
      },
      "execution_count": null,
      "outputs": [
        {
          "output_type": "stream",
          "name": "stdout",
          "text": [
            "Shape of the sample data: (2000, 28, 28)\n"
          ]
        }
      ]
    },
    {
      "cell_type": "code",
      "source": [
        "#reshaping the datasets\n",
        "x_train = x_train.reshape((x_train.shape[0], 28*28)).astype('float32')\n",
        "x_test = x_test.reshape((x_test.shape[0], 28*28)).astype('float32')"
      ],
      "metadata": {
        "id": "Ca5pFg8Rr6j7"
      },
      "execution_count": null,
      "outputs": []
    },
    {
      "cell_type": "code",
      "source": [
        "# prompt: do  it by defining a function to apply filters for above data\n",
        "\n",
        "def apply_filter(image, filter_type, kernel_size=3):\n",
        "\n",
        "  if filter_type == 'mean':\n",
        "    kernel = np.ones((kernel_size, kernel_size), np.float32) / (kernel_size ** 2)\n",
        "    filtered_image = cv2.filter2D(image, -1, kernel)\n",
        "  elif filter_type == 'gaussian':\n",
        "    filtered_image = cv2.GaussianBlur(image, (kernel_size, kernel_size), 0)\n",
        "  elif filter_type == 'laplacian':\n",
        "    kernel = np.array([[0, 1, 0], [1, -4, 1], [0, 1, 0]])\n",
        "    filtered_image = cv2.filter2D(image, -1, kernel)\n",
        "  elif filter_type == 'median':\n",
        "    filtered_image = cv2.medianBlur(image.astype(np.uint8), kernel_size)\n",
        "  else:\n",
        "    raise ValueError(\"Invalid filter type. Choose from 'mean', 'gaussian', 'laplacian', or 'median'.\")\n",
        "\n",
        "  return filtered_image\n",
        "\n",
        "# Example usage:\n",
        "sample_image = x_train_sample[0]\n",
        "mean_filtered_image = apply_filter(sample_image, 'mean', kernel_size=5)\n",
        "gaussian_filtered_image = apply_filter(sample_image, 'gaussian', kernel_size=3)\n",
        "laplacian_filtered_image = apply_filter(sample_image, 'laplacian')\n",
        "median_filtered_image = apply_filter(sample_image, 'median', kernel_size=5)\n",
        "\n",
        "# Display the filtered images (optional)\n",
        "plt.figure(figsize=(12, 6))\n",
        "plt.subplot(2, 2, 1)\n",
        "plt.imshow(mean_filtered_image, cmap='gray')\n",
        "plt.title('Mean Filtered Image')\n",
        "plt.subplot(2, 2, 2)\n",
        "plt.imshow(gaussian_filtered_image, cmap='gray')\n",
        "plt.title('Gaussian Filtered Image')\n",
        "plt.subplot(2, 2, 3)\n",
        "plt.imshow(laplacian_filtered_image, cmap='gray')\n",
        "plt.title('Laplacian Filtered Image')\n",
        "plt.subplot(2, 2, 4)\n",
        "plt.imshow(median_filtered_image, cmap='gray')\n",
        "plt.title('Median Filtered Image')\n",
        "plt.tight_layout()\n",
        "plt.show()\n"
      ],
      "metadata": {
        "colab": {
          "base_uri": "https://localhost:8080/",
          "height": 607
        },
        "id": "hgOwm75KsEMr",
        "outputId": "bd408fba-e736-4e67-b965-fb3943c5aabf"
      },
      "execution_count": null,
      "outputs": [
        {
          "output_type": "display_data",
          "data": {
            "text/plain": [
              "<Figure size 1200x600 with 4 Axes>"
            ],
            "image/png": "[encoded data removed]"
          },
          "metadata": {}
        }
      ]
    },
    {
      "cell_type": "code",
      "source": [
        "#building the SVC model\n",
        "\n",
        "from sklearn.svm import SVC\n",
        "from sklearn.metrics import accuracy_score\n",
        "\n",
        "# Flatten the images for SVC\n",
        "x_train_flattened = x_train.reshape(x_train.shape[0], -1) # Changed X_train to x_train\n",
        "x_test_flattened = x_test.reshape(x_test.shape[0], -1) # Changed X_test to x_test\n",
        "\n",
        "# Create an SVC model\n",
        "model = SVC()\n",
        "\n",
        "# Train the model\n",
        "model.fit(x_train_flattened, y_train) # Changed X_train_flattened to x_train_flattened\n",
        "\n",
        "# Make predictions\n",
        "y_pred = model.predict(x_test_flattened) # Changed X_test_flattened to x_test_flattened\n",
        "\n",
        "# Evaluate the model\n",
        "accuracy = accuracy_score(y_test, y_pred)\n",
        "print(\"Accuracy:\", accuracy)"
      ],
      "metadata": {
        "colab": {
          "base_uri": "https://localhost:8080/"
        },
        "id": "3uaxNqDRsGjm",
        "outputId": "fffb2006-0e90-470f-8712-e140a9150e37"
      },
      "execution_count": null,
      "outputs": [
        {
          "output_type": "stream",
          "name": "stdout",
          "text": [
            "Accuracy: 0.9792\n"
          ]
        }
      ]
    },
    {
      "cell_type": "code",
      "source": [
        "\n",
        "#building Svc model for each filtering techniques\n",
        "\n",
        "# Mean Filtering\n",
        "x_train_mean = np.array([apply_filter(img, 'mean') for img in x_train_sample])\n",
        "x_train_mean = x_train_mean.reshape(x_train_mean.shape[0], -1)\n",
        "model_mean = SVC()\n",
        "model_mean.fit(x_train_mean, y_train_sample)\n",
        "y_pred_mean = model_mean.predict(x_test.reshape(x_test.shape[0], -1))\n",
        "accuracy_mean = accuracy_score(y_test, y_pred_mean)\n",
        "print(\"Accuracy with Mean Filtering:\", accuracy_mean)\n",
        "\n",
        "# Gaussian Filtering\n",
        "x_train_gaussian = np.array([apply_filter(img, 'gaussian') for img in x_train_sample])\n",
        "x_train_gaussian = x_train_gaussian.reshape(x_train_gaussian.shape[0], -1)\n",
        "model_gaussian = SVC()\n",
        "model_gaussian.fit(x_train_gaussian, y_train_sample)\n",
        "y_pred_gaussian = model_gaussian.predict(x_test.reshape(x_test.shape[0], -1))\n",
        "accuracy_gaussian = accuracy_score(y_test, y_pred_gaussian)\n",
        "print(\"Accuracy with Gaussian Filtering:\", accuracy_gaussian)\n",
        "\n",
        "# Laplacian Filtering\n",
        "x_train_laplacian = np.array([apply_filter(img, 'laplacian') for img in x_train_sample])\n",
        "x_train_laplacian = x_train_laplacian.reshape(x_train_laplacian.shape[0], -1)\n",
        "model_laplacian = SVC()\n",
        "model_laplacian.fit(x_train_laplacian, y_train_sample)\n",
        "y_pred_laplacian = model_laplacian.predict(x_test.reshape(x_test.shape[0], -1))\n",
        "accuracy_laplacian = accuracy_score(y_test, y_pred_laplacian)\n",
        "print(\"Accuracy with Laplacian Filtering:\", accuracy_laplacian)\n",
        "\n",
        "# Median Filtering\n",
        "x_train_median = np.array([apply_filter(img, 'median') for img in x_train_sample])\n",
        "x_train_median = x_train_median.reshape(x_train_median.shape[0], -1)\n",
        "model_median = SVC()\n",
        "model_median.fit(x_train_median, y_train_sample)\n",
        "y_pred_median = model_median.predict(x_test.reshape(x_test.shape[0], -1))\n",
        "accuracy_median = accuracy_score(y_test, y_pred_median)\n",
        "print(\"Accuracy with Median Filtering:\", accuracy_median)\n"
      ],
      "metadata": {
        "colab": {
          "base_uri": "https://localhost:8080/"
        },
        "id": "QF0pCKxZs6jL",
        "outputId": "367f9dff-1e5a-477f-ee7c-b41b2e116b45"
      },
      "execution_count": null,
      "outputs": [
        {
          "output_type": "stream",
          "name": "stdout",
          "text": [
            "Accuracy with Mean Filtering: 0.9365\n",
            "Accuracy with Gaussian Filtering: 0.9412\n",
            "Accuracy with Laplacian Filtering: 0.3518\n",
            "Accuracy with Median Filtering: 0.9373\n"
          ]
        }
      ]
    },
    {
      "cell_type": "code",
      "source": [
        " #imprting one of the image in mnistdataset and implementing CNN model before and after filtering and predicting\n",
        "\n",
        "import tensorflow as tf\n",
        "from tensorflow.keras.models import Sequential\n",
        "from tensorflow.keras.layers import Conv2D, MaxPooling2D, Flatten, Dense\n",
        "\n",
        "# Select an image from the test set\n",
        "test_image_index = 0\n",
        "test_image = x_test[test_image_index]\n",
        "true_label = y_test[test_image_index]\n",
        "\n",
        "# Reshape the image for CNN input\n",
        "test_image_cnn = test_image.reshape(1, 28, 28, 1)\n",
        "\n",
        "# Build a simple CNN model\n",
        "model = Sequential([\n",
        "    Conv2D(32, (3, 3), activation='relu', input_shape=(28, 28, 1)),\n",
        "    MaxPooling2D((2, 2)),\n",
        "    Conv2D(64, (3, 3), activation='relu'),\n",
        "    MaxPooling2D((2, 2)),\n",
        "    Flatten(),\n",
        "    Dense(10, activation='softmax')\n",
        "])\n",
        "\n",
        "model.compile(optimizer='adam', loss='sparse_categorical_crossentropy', metrics=['accuracy'])\n",
        "\n",
        "# Predict on the original image\n",
        "prediction_before = model.predict(test_image_cnn)\n",
        "predicted_label_before = np.argmax(prediction_before)\n",
        "\n",
        "# Apply a filter (e.g., Gaussian)\n",
        "filtered_image = apply_filter(test_image.reshape(28, 28), 'gaussian')\n",
        "filtered_image_cnn = filtered_image.reshape(1, 28, 28, 1)\n",
        "\n",
        "# Predict on the filtered image\n",
        "prediction_after = model.predict(filtered_image_cnn)\n",
        "predicted_label_after = np.argmax(prediction_after)\n",
        "\n",
        "print(\"True Label:\", true_label)\n",
        "print(\"Predicted Label (Before Filtering):\", predicted_label_before)\n",
        "print(\"Predicted Label (After Filtering):\", predicted_label_after)\n"
      ],
      "metadata": {
        "colab": {
          "base_uri": "https://localhost:8080/"
        },
        "id": "hywe_WQpbt9u",
        "outputId": "e068dfe8-af03-4f6d-bfe5-cb9575101ff4"
      },
      "execution_count": null,
      "outputs": [
        {
          "output_type": "stream",
          "name": "stdout",
          "text": [
            "1/1 [==============================] - 2s 2s/step\n",
            "1/1 [==============================] - 0s 16ms/step\n",
            "True Label: 7\n",
            "Predicted Label (Before Filtering): 0\n",
            "Predicted Label (After Filtering): 6\n"
          ]
        }
      ]
    },
    {
      "cell_type": "code",
      "source": [
        "#loading the mnist dataset\n",
        "mnist=fetch_openml('mnist_784',version=1)\n",
        "x=mnist.data\n",
        "y=mnist.target.astype(int)"
      ],
      "metadata": {
        "colab": {
          "base_uri": "https://localhost:8080/"
        },
        "id": "48blT6RKdQCo",
        "outputId": "7ddde364-57dd-48c5-bf7b-42603dc63108"
      },
      "execution_count": null,
      "outputs": [
        {
          "output_type": "stream",
          "name": "stderr",
          "text": [
            "/usr/local/lib/python3.10/dist-packages/sklearn/datasets/_openml.py:968: FutureWarning: The default value of `parser` will change from `'liac-arff'` to `'auto'` in 1.4. You can set `parser='auto'` to silence this warning. Therefore, an `ImportError` will be raised from 1.4 if the dataset is dense and pandas is not installed. Note that the pandas parser may return different data types. See the Notes Section in fetch_openml's API doc for details.\n",
            "  warn(\n"
          ]
        }
      ]
    },
    {
      "cell_type": "code",
      "source": [
        "x.head()"
      ],
      "metadata": {
        "colab": {
          "base_uri": "https://localhost:8080/",
          "height": 255
        },
        "id": "OlSp0YFiecEB",
        "outputId": "58670f38-ed27-46d9-f96d-32d3c14aefe2"
      },
      "execution_count": null,
      "outputs": [
        {
          "output_type": "execute_result",
          "data": {
            "text/plain": [
              "   pixel1  pixel2  pixel3  pixel4  pixel5  pixel6  pixel7  pixel8  pixel9  \\\n",
              "0     0.0     0.0     0.0     0.0     0.0     0.0     0.0     0.0     0.0   \n",
              "1     0.0     0.0     0.0     0.0     0.0     0.0     0.0     0.0     0.0   \n",
              "2     0.0     0.0     0.0     0.0     0.0     0.0     0.0     0.0     0.0   \n",
              "3     0.0     0.0     0.0     0.0     0.0     0.0     0.0     0.0     0.0   \n",
              "4     0.0     0.0     0.0     0.0     0.0     0.0     0.0     0.0     0.0   \n",
              "\n",
              "   pixel10  ...  pixel775  pixel776  pixel777  pixel778  pixel779  pixel780  \\\n",
              "0      0.0  ...       0.0       0.0       0.0       0.0       0.0       0.0   \n",
              "1      0.0  ...       0.0       0.0       0.0       0.0       0.0       0.0   \n",
              "2      0.0  ...       0.0       0.0       0.0       0.0       0.0       0.0   \n",
              "3      0.0  ...       0.0       0.0       0.0       0.0       0.0       0.0   \n",
              "4      0.0  ...       0.0       0.0       0.0       0.0       0.0       0.0   \n",
              "\n",
              "   pixel781  pixel782  pixel783  pixel784  \n",
              "0       0.0       0.0       0.0       0.0  \n",
              "1       0.0       0.0       0.0       0.0  \n",
              "2       0.0       0.0       0.0       0.0  \n",
              "3       0.0       0.0       0.0       0.0  \n",
              "4       0.0       0.0       0.0       0.0  \n",
              "\n",
              "[5 rows x 784 columns]"
            ],
            "text/html": [
              "\n",
              "  <div id=\"df-04f079fe-648f-43a7-b8f0-72ecae8d9b36\" class=\"colab-df-container\">\n",
              "    <div>\n",
              "<style scoped>\n",
              "    .dataframe tbody tr th:only-of-type {\n",
              "        vertical-align: middle;\n",
              "    }\n",
              "\n",
              "    .dataframe tbody tr th {\n",
              "        vertical-align: top;\n",
              "    }\n",
              "\n",
              "    .dataframe thead th {\n",
              "        text-align: right;\n",
              "    }\n",
              "</style>\n",
              "<table border=\"1\" class=\"dataframe\">\n",
              "  <thead>\n",
              "    <tr style=\"text-align: right;\">\n",
              "      <th></th>\n",
              "      <th>pixel1</th>\n",
              "      <th>pixel2</th>\n",
              "      <th>pixel3</th>\n",
              "      <th>pixel4</th>\n",
              "      <th>pixel5</th>\n",
              "      <th>pixel6</th>\n",
              "      <th>pixel7</th>\n",
              "      <th>pixel8</th>\n",
              "      <th>pixel9</th>\n",
              "      <th>pixel10</th>\n",
              "      <th>...</th>\n",
              "      <th>pixel775</th>\n",
              "      <th>pixel776</th>\n",
              "      <th>pixel777</th>\n",
              "      <th>pixel778</th>\n",
              "      <th>pixel779</th>\n",
              "      <th>pixel780</th>\n",
              "      <th>pixel781</th>\n",
              "      <th>pixel782</th>\n",
              "      <th>pixel783</th>\n",
              "      <th>pixel784</th>\n",
              "    </tr>\n",
              "  </thead>\n",
              "  <tbody>\n",
              "    <tr>\n",
              "      <th>0</th>\n",
              "      <td>0.0</td>\n",
              "      <td>0.0</td>\n",
              "      <td>0.0</td>\n",
              "      <td>0.0</td>\n",
              "      <td>0.0</td>\n",
              "      <td>0.0</td>\n",
              "      <td>0.0</td>\n",
              "      <td>0.0</td>\n",
              "      <td>0.0</td>\n",
              "      <td>0.0</td>\n",
              "      <td>...</td>\n",
              "      <td>0.0</td>\n",
              "      <td>0.0</td>\n",
              "      <td>0.0</td>\n",
              "      <td>0.0</td>\n",
              "      <td>0.0</td>\n",
              "      <td>0.0</td>\n",
              "      <td>0.0</td>\n",
              "      <td>0.0</td>\n",
              "      <td>0.0</td>\n",
              "      <td>0.0</td>\n",
              "    </tr>\n",
              "    <tr>\n",
              "      <th>1</th>\n",
              "      <td>0.0</td>\n",
              "      <td>0.0</td>\n",
              "      <td>0.0</td>\n",
              "      <td>0.0</td>\n",
              "      <td>0.0</td>\n",
              "      <td>0.0</td>\n",
              "      <td>0.0</td>\n",
              "      <td>0.0</td>\n",
              "      <td>0.0</td>\n",
              "      <td>0.0</td>\n",
              "      <td>...</td>\n",
              "      <td>0.0</td>\n",
              "      <td>0.0</td>\n",
              "      <td>0.0</td>\n",
              "      <td>0.0</td>\n",
              "      <td>0.0</td>\n",
              "      <td>0.0</td>\n",
              "      <td>0.0</td>\n",
              "      <td>0.0</td>\n",
              "      <td>0.0</td>\n",
              "      <td>0.0</td>\n",
              "    </tr>\n",
              "    <tr>\n",
              "      <th>2</th>\n",
              "      <td>0.0</td>\n",
              "      <td>0.0</td>\n",
              "      <td>0.0</td>\n",
              "      <td>0.0</td>\n",
              "      <td>0.0</td>\n",
              "      <td>0.0</td>\n",
              "      <td>0.0</td>\n",
              "      <td>0.0</td>\n",
              "      <td>0.0</td>\n",
              "      <td>0.0</td>\n",
              "      <td>...</td>\n",
              "      <td>0.0</td>\n",
              "      <td>0.0</td>\n",
              "      <td>0.0</td>\n",
              "      <td>0.0</td>\n",
              "      <td>0.0</td>\n",
              "      <td>0.0</td>\n",
              "      <td>0.0</td>\n",
              "      <td>0.0</td>\n",
              "      <td>0.0</td>\n",
              "      <td>0.0</td>\n",
              "    </tr>\n",
              "    <tr>\n",
              "      <th>3</th>\n",
              "      <td>0.0</td>\n",
              "      <td>0.0</td>\n",
              "      <td>0.0</td>\n",
              "      <td>0.0</td>\n",
              "      <td>0.0</td>\n",
              "      <td>0.0</td>\n",
              "      <td>0.0</td>\n",
              "      <td>0.0</td>\n",
              "      <td>0.0</td>\n",
              "      <td>0.0</td>\n",
              "      <td>...</td>\n",
              "      <td>0.0</td>\n",
              "      <td>0.0</td>\n",
              "      <td>0.0</td>\n",
              "      <td>0.0</td>\n",
              "      <td>0.0</td>\n",
              "      <td>0.0</td>\n",
              "      <td>0.0</td>\n",
              "      <td>0.0</td>\n",
              "      <td>0.0</td>\n",
              "      <td>0.0</td>\n",
              "    </tr>\n",
              "    <tr>\n",
              "      <th>4</th>\n",
              "      <td>0.0</td>\n",
              "      <td>0.0</td>\n",
              "      <td>0.0</td>\n",
              "      <td>0.0</td>\n",
              "      <td>0.0</td>\n",
              "      <td>0.0</td>\n",
              "      <td>0.0</td>\n",
              "      <td>0.0</td>\n",
              "      <td>0.0</td>\n",
              "      <td>0.0</td>\n",
              "      <td>...</td>\n",
              "      <td>0.0</td>\n",
              "      <td>0.0</td>\n",
              "      <td>0.0</td>\n",
              "      <td>0.0</td>\n",
              "      <td>0.0</td>\n",
              "      <td>0.0</td>\n",
              "      <td>0.0</td>\n",
              "      <td>0.0</td>\n",
              "      <td>0.0</td>\n",
              "      <td>0.0</td>\n",
              "    </tr>\n",
              "  </tbody>\n",
              "</table>\n",
              "<p>5 rows × 784 columns</p>\n",
              "</div>\n",
              "    <div class=\"colab-df-buttons\">\n",
              "\n",
              "  <div class=\"colab-df-container\">\n",
              "    <button class=\"colab-df-convert\" onclick=\"convertToInteractive('df-04f079fe-648f-43a7-b8f0-72ecae8d9b36')\"\n",
              "            title=\"Convert this dataframe to an interactive table.\"\n",
              "            style=\"display:none;\">\n",
              "\n",
              "  <svg xmlns=\"http://www.w3.org/2000/svg\" height=\"24px\" viewBox=\"0 -960 960 960\">\n",
              "    <path d=\"M120-120v-720h720v720H120Zm60-500h600v-160H180v160Zm220 220h160v-160H400v160Zm0 220h160v-160H400v160ZM180-400h160v-160H180v160Zm440 0h160v-160H620v160ZM180-180h160v-160H180v160Zm440 0h160v-160H620v160Z\"/>\n",
              "  </svg>\n",
              "    </button>\n",
              "\n",
              "  <style>\n",
              "    .colab-df-container {\n",
              "      display:flex;\n",
              "      gap: 12px;\n",
              "    }\n",
              "\n",
              "    .colab-df-convert {\n",
              "      background-color: #E8F0FE;\n",
              "      border: none;\n",
              "      border-radius: 50%;\n",
              "      cursor: pointer;\n",
              "      display: none;\n",
              "      fill: #1967D2;\n",
              "      height: 32px;\n",
              "      padding: 0 0 0 0;\n",
              "      width: 32px;\n",
              "    }\n",
              "\n",
              "    .colab-df-convert:hover {\n",
              "      background-color: #E2EBFA;\n",
              "      box-shadow: 0px 1px 2px rgba(60, 64, 67, 0.3), 0px 1px 3px 1px rgba(60, 64, 67, 0.15);\n",
              "      fill: #174EA6;\n",
              "    }\n",
              "\n",
              "    .colab-df-buttons div {\n",
              "      margin-bottom: 4px;\n",
              "    }\n",
              "\n",
              "    [theme=dark] .colab-df-convert {\n",
              "      background-color: #3B4455;\n",
              "      fill: #D2E3FC;\n",
              "    }\n",
              "\n",
              "    [theme=dark] .colab-df-convert:hover {\n",
              "      background-color: #434B5C;\n",
              "      box-shadow: 0px 1px 3px 1px rgba(0, 0, 0, 0.15);\n",
              "      filter: drop-shadow(0px 1px 2px rgba(0, 0, 0, 0.3));\n",
              "      fill: #FFFFFF;\n",
              "    }\n",
              "  </style>\n",
              "\n",
              "    <script>\n",
              "      const buttonEl =\n",
              "        document.querySelector('#df-04f079fe-648f-43a7-b8f0-72ecae8d9b36 button.colab-df-convert');\n",
              "      buttonEl.style.display =\n",
              "        google.colab.kernel.accessAllowed ? 'block' : 'none';\n",
              "\n",
              "      async function convertToInteractive(key) {\n",
              "        const element = document.querySelector('#df-04f079fe-648f-43a7-b8f0-72ecae8d9b36');\n",
              "        const dataTable =\n",
              "          await google.colab.kernel.invokeFunction('convertToInteractive',\n",
              "                                                    [key], {});\n",
              "        if (!dataTable) return;\n",
              "\n",
              "        const docLinkHtml = 'Like what you see? Visit the ' +\n",
              "          '<a target=\"_blank\" href=https://colab.research.google.com/notebooks/data_table.ipynb>data table notebook</a>'\n",
              "          + ' to learn more about interactive tables.';\n",
              "        element.innerHTML = '';\n",
              "        dataTable['output_type'] = 'display_data';\n",
              "        await google.colab.output.renderOutput(dataTable, element);\n",
              "        const docLink = document.createElement('div');\n",
              "        docLink.innerHTML = docLinkHtml;\n",
              "        element.appendChild(docLink);\n",
              "      }\n",
              "    </script>\n",
              "  </div>\n",
              "\n",
              "\n",
              "<div id=\"df-7ae535e5-4238-4174-91e5-f59102d62fbe\">\n",
              "  <button class=\"colab-df-quickchart\" onclick=\"quickchart('df-7ae535e5-4238-4174-91e5-f59102d62fbe')\"\n",
              "            title=\"Suggest charts\"\n",
              "            style=\"display:none;\">\n",
              "\n",
              "<svg xmlns=\"http://www.w3.org/2000/svg\" height=\"24px\"viewBox=\"0 0 24 24\"\n",
              "     width=\"24px\">\n",
              "    <g>\n",
              "        <path d=\"M19 3H5c-1.1 0-2 .9-2 2v14c0 1.1.9 2 2 2h14c1.1 0 2-.9 2-2V5c0-1.1-.9-2-2-2zM9 17H7v-7h2v7zm4 0h-2V7h2v10zm4 0h-2v-4h2v4z\"/>\n",
              "    </g>\n",
              "</svg>\n",
              "  </button>\n",
              "\n",
              "<style>\n",
              "  .colab-df-quickchart {\n",
              "      --bg-color: #E8F0FE;\n",
              "      --fill-color: #1967D2;\n",
              "      --hover-bg-color: #E2EBFA;\n",
              "      --hover-fill-color: #174EA6;\n",
              "      --disabled-fill-color: #AAA;\n",
              "      --disabled-bg-color: #DDD;\n",
              "  }\n",
              "\n",
              "  [theme=dark] .colab-df-quickchart {\n",
              "      --bg-color: #3B4455;\n",
              "      --fill-color: #D2E3FC;\n",
              "      --hover-bg-color: #434B5C;\n",
              "      --hover-fill-color: #FFFFFF;\n",
              "      --disabled-bg-color: #3B4455;\n",
              "      --disabled-fill-color: #666;\n",
              "  }\n",
              "\n",
              "  .colab-df-quickchart {\n",
              "    background-color: var(--bg-color);\n",
              "    border: none;\n",
              "    border-radius: 50%;\n",
              "    cursor: pointer;\n",
              "    display: none;\n",
              "    fill: var(--fill-color);\n",
              "    height: 32px;\n",
              "    padding: 0;\n",
              "    width: 32px;\n",
              "  }\n",
              "\n",
              "  .colab-df-quickchart:hover {\n",
              "    background-color: var(--hover-bg-color);\n",
              "    box-shadow: 0 1px 2px rgba(60, 64, 67, 0.3), 0 1px 3px 1px rgba(60, 64, 67, 0.15);\n",
              "    fill: var(--button-hover-fill-color);\n",
              "  }\n",
              "\n",
              "  .colab-df-quickchart-complete:disabled,\n",
              "  .colab-df-quickchart-complete:disabled:hover {\n",
              "    background-color: var(--disabled-bg-color);\n",
              "    fill: var(--disabled-fill-color);\n",
              "    box-shadow: none;\n",
              "  }\n",
              "\n",
              "  .colab-df-spinner {\n",
              "    border: 2px solid var(--fill-color);\n",
              "    border-color: transparent;\n",
              "    border-bottom-color: var(--fill-color);\n",
              "    animation:\n",
              "      spin 1s steps(1) infinite;\n",
              "  }\n",
              "\n",
              "  @keyframes spin {\n",
              "    0% {\n",
              "      border-color: transparent;\n",
              "      border-bottom-color: var(--fill-color);\n",
              "      border-left-color: var(--fill-color);\n",
              "    }\n",
              "    20% {\n",
              "      border-color: transparent;\n",
              "      border-left-color: var(--fill-color);\n",
              "      border-top-color: var(--fill-color);\n",
              "    }\n",
              "    30% {\n",
              "      border-color: transparent;\n",
              "      border-left-color: var(--fill-color);\n",
              "      border-top-color: var(--fill-color);\n",
              "      border-right-color: var(--fill-color);\n",
              "    }\n",
              "    40% {\n",
              "      border-color: transparent;\n",
              "      border-right-color: var(--fill-color);\n",
              "      border-top-color: var(--fill-color);\n",
              "    }\n",
              "    60% {\n",
              "      border-color: transparent;\n",
              "      border-right-color: var(--fill-color);\n",
              "    }\n",
              "    80% {\n",
              "      border-color: transparent;\n",
              "      border-right-color: var(--fill-color);\n",
              "      border-bottom-color: var(--fill-color);\n",
              "    }\n",
              "    90% {\n",
              "      border-color: transparent;\n",
              "      border-bottom-color: var(--fill-color);\n",
              "    }\n",
              "  }\n",
              "</style>\n",
              "\n",
              "  <script>\n",
              "    async function quickchart(key) {\n",
              "      const quickchartButtonEl =\n",
              "        document.querySelector('#' + key + ' button');\n",
              "      quickchartButtonEl.disabled = true;  // To prevent multiple clicks.\n",
              "      quickchartButtonEl.classList.add('colab-df-spinner');\n",
              "      try {\n",
              "        const charts = await google.colab.kernel.invokeFunction(\n",
              "            'suggestCharts', [key], {});\n",
              "      } catch (error) {\n",
              "        console.error('Error during call to suggestCharts:', error);\n",
              "      }\n",
              "      quickchartButtonEl.classList.remove('colab-df-spinner');\n",
              "      quickchartButtonEl.classList.add('colab-df-quickchart-complete');\n",
              "    }\n",
              "    (() => {\n",
              "      let quickchartButtonEl =\n",
              "        document.querySelector('#df-7ae535e5-4238-4174-91e5-f59102d62fbe button');\n",
              "      quickchartButtonEl.style.display =\n",
              "        google.colab.kernel.accessAllowed ? 'block' : 'none';\n",
              "    })();\n",
              "  </script>\n",
              "</div>\n",
              "\n",
              "    </div>\n",
              "  </div>\n"
            ],
            "application/vnd.google.colaboratory.intrinsic+json": {
              "type": "dataframe",
              "variable_name": "x"
            }
          },
          "metadata": {},
          "execution_count": 32
        }
      ]
    },
    {
      "cell_type": "code",
      "source": [
        "y.head()"
      ],
      "metadata": {
        "colab": {
          "base_uri": "https://localhost:8080/"
        },
        "id": "LCVseb64eg9w",
        "outputId": "da3944d9-4ead-4d40-e259-d9d129fc2bcd"
      },
      "execution_count": null,
      "outputs": [
        {
          "output_type": "execute_result",
          "data": {
            "text/plain": [
              "0    5\n",
              "1    0\n",
              "2    4\n",
              "3    1\n",
              "4    9\n",
              "Name: class, dtype: int64"
            ]
          },
          "metadata": {},
          "execution_count": 33
        }
      ]
    },
    {
      "cell_type": "code",
      "source": [
        "#standardize the data\n",
        "scaler=StandardScaler()\n",
        "x_scaled=scaler.fit_transform(x)\n",
        "\n",
        "#reduce the dimensionality\n",
        "pca=PCA(n_components=50)\n",
        "x_pca=pca.fit_transform(x_scaled)"
      ],
      "metadata": {
        "id": "RrJEKri6esHD"
      },
      "execution_count": null,
      "outputs": []
    },
    {
      "cell_type": "code",
      "source": [
        "#applying k-means clustering\n",
        "kmeans=KMeans(n_clusters=10,random_state=45)\n",
        "kmeans.fit(x_pca)\n",
        "cluster=kmeans.labels_"
      ],
      "metadata": {
        "colab": {
          "base_uri": "https://localhost:8080/"
        },
        "id": "ZvKGg_8Se6Yu",
        "outputId": "888780d1-70cb-4e2d-e366-bfd7718a45b4"
      },
      "execution_count": null,
      "outputs": [
        {
          "output_type": "stream",
          "name": "stderr",
          "text": [
            "/usr/local/lib/python3.10/dist-packages/sklearn/cluster/_kmeans.py:870: FutureWarning: The default value of `n_init` will change from 10 to 'auto' in 1.4. Set the value of `n_init` explicitly to suppress the warning\n",
            "  warnings.warn(\n"
          ]
        }
      ]
    },
    {
      "cell_type": "code",
      "source": [
        "from scipy.stats import mode\n",
        "#mapping each cluster to the true label\n",
        "labels=np.zeros_like(cluster)\n",
        "for i in range(10):\n",
        "  mask=(cluster_labels==i)\n",
        "  labels[mask]=mode(y[mask])[0]"
      ],
      "metadata": {
        "id": "vvPLxo26fE16"
      },
      "execution_count": null,
      "outputs": []
    },
    {
      "cell_type": "code",
      "source": [
        "#accuracy calculating\n",
        "accuracy=accuracy_score(y,labels)\n",
        "print(accuracy)"
      ],
      "metadata": {
        "colab": {
          "base_uri": "https://localhost:8080/"
        },
        "id": "Wal4ykRKfiaT",
        "outputId": "f3d27c4d-fe96-4a85-e7e3-9c95835ca513"
      },
      "execution_count": null,
      "outputs": [
        {
          "output_type": "stream",
          "name": "stdout",
          "text": [
            "0.5209714285714285\n"
          ]
        }
      ]
    },
    {
      "cell_type": "code",
      "source": [
        "# Visualize the clustered images\n",
        "import matplotlib.pyplot as plt\n",
        "\n",
        "# Choose a random sample of images from each cluster\n",
        "num_samples_per_cluster = 5\n",
        "fig, axes = plt.subplots(10, num_samples_per_cluster, figsize=(15, 15))\n",
        "\n",
        "for i in range(10):\n",
        "    cluster_indices = np.where(cluster == i)[0]\n",
        "    random_indices = np.random.choice(cluster_indices, num_samples_per_cluster, replace=False)\n",
        "    for j, idx in enumerate(random_indices):\n",
        "        image = x.iloc[idx].values.reshape(28, 28)\n",
        "        axes[i, j].imshow(image, cmap='gray')\n",
        "        axes[i, j].axis('off')\n",
        "\n",
        "plt.tight_layout()\n",
        "plt.show()\n"
      ],
      "metadata": {
        "colab": {
          "base_uri": "https://localhost:8080/",
          "height": 1000
        },
        "id": "B4trSOzaf64u",
        "outputId": "4c2f0de5-0770-470b-fa8d-bc659979f0ee"
      },
      "execution_count": null,
      "outputs": [
        {
          "output_type": "display_data",
          "data": {
            "text/plain": [
              "<Figure size 1500x1500 with 50 Axes>"
            ],
            "image/png": "[encoded data removed]"
          },
          "metadata": {}
        }
      ]
    },
    {
      "cell_type": "code",
      "source": [
        "# prompt: find how many are clustered wrongly for each digits\n",
        "\n",
        "# Calculate the number of wrongly clustered images for each digit\n",
        "wrong_clustered_counts = {}\n",
        "for i in range(10):\n",
        "    mask = (cluster == i)\n",
        "    true_labels_in_cluster = y[mask]\n",
        "    wrong_count = np.sum(true_labels_in_cluster != mode(true_labels_in_cluster)[0])\n",
        "    wrong_clustered_counts[i] = wrong_count\n",
        "\n",
        "# Print the results\n",
        "for digit, count in wrong_clustered_counts.items():\n",
        "    print(f\"Digit {digit}: {count} wrongly clustered images\")\n"
      ],
      "metadata": {
        "colab": {
          "base_uri": "https://localhost:8080/"
        },
        "id": "KETGaprhhEBd",
        "outputId": "0dd6ac50-4478-4980-90d5-20e035de9ab5"
      },
      "execution_count": null,
      "outputs": [
        {
          "output_type": "stream",
          "name": "stdout",
          "text": [
            "Digit 0: 6216 wrongly clustered images\n",
            "Digit 1: 530 wrongly clustered images\n",
            "Digit 2: 1636 wrongly clustered images\n",
            "Digit 3: 6866 wrongly clustered images\n",
            "Digit 4: 4631 wrongly clustered images\n",
            "Digit 5: 1274 wrongly clustered images\n",
            "Digit 6: 5116 wrongly clustered images\n",
            "Digit 7: 1642 wrongly clustered images\n",
            "Digit 8: 1843 wrongly clustered images\n",
            "Digit 9: 3283 wrongly clustered images\n"
          ]
        }
      ]
    },
    {
      "cell_type": "code",
      "source": [
        "# Visualize misclassified images\n",
        "num_samples = min(num_misclassified, 10)  # Show up to 10 misclassified images\n",
        "fig, axes = plt.subplots(1, num_samples, figsize=(15, 3))\n",
        "\n",
        "for i in range(num_samples):\n",
        "    idx = misclassified_indices[i]\n",
        "    image = x.iloc[idx].values.reshape(28, 28)\n",
        "    true_label = y[idx]\n",
        "    predicted_label = cluster[idx]\n",
        "    axes[i].imshow(image, cmap='gray')\n",
        "    axes[i].set_title(f\"True: {true_label}, Pred: {predicted_label}\")\n",
        "    axes[i].axis('off')\n",
        "\n",
        "plt.tight_layout()\n",
        "plt.show()\n"
      ],
      "metadata": {
        "colab": {
          "base_uri": "https://localhost:8080/",
          "height": 167
        },
        "id": "hNiVpRwxhvhc",
        "outputId": "91f6913a-bf86-4cf2-f6e6-f560bdb8d675"
      },
      "execution_count": null,
      "outputs": [
        {
          "output_type": "display_data",
          "data": {
            "text/plain": [
              "<Figure size 1500x300 with 10 Axes>"
            ],
            "image/png": "[encoded data removed]"
          },
          "metadata": {}
        }
      ]
    },
    {
      "cell_type": "code",
      "source": [
        "#improving the model accuracy to classify every digits correctly\n"
      ],
      "metadata": {
        "id": "4IFtPeR6i1Yx"
      },
      "execution_count": null,
      "outputs": []
    },
    {
      "cell_type": "code",
      "source": [],
      "metadata": {
        "id": "6Kb8N_ELlFYp"
      },
      "execution_count": null,
      "outputs": []
    }
  ]
}